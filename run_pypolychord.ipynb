{
 "cells": [
  {
   "cell_type": "code",
   "execution_count": null,
   "id": "07ce1c6b",
   "metadata": {},
   "outputs": [],
   "source": [
    "from numpy import pi, log, sqrt\n",
    "import numpy as np\n",
    "import pypolychord\n",
    "from pypolychord.settings import PolyChordSettings\n",
    "from pypolychord.priors import UniformPrior\n",
    "try:\n",
    "    from mpi4py import MPI\n",
    "except ImportError:\n",
    "    pass"
   ]
  },
  {
   "cell_type": "markdown",
   "id": "ddf5dfd5",
   "metadata": {},
   "source": [
    "Define a four-dimensional spherical gaussian likelihood,\n",
    " width sigma=0.1, centered on the 0 with one derived parameter.\n",
    " The derived parameter is the squared radius"
   ]
  },
  {
   "cell_type": "code",
   "execution_count": null,
   "id": "071a0561",
   "metadata": {},
   "outputs": [],
   "source": [
    "nDims = 4\n",
    "nDerived = 1\n",
    "sigma = 0.1\n",
    "\n",
    "def likelihood(theta):\n",
    "    \"\"\" Simple Gaussian Likelihood\"\"\"\n",
    "\n",
    "    nDims = len(theta)\n",
    "    r2 = sum(theta**2)\n",
    "    logL = -log(2*pi*sigma*sigma)*nDims/2.0\n",
    "    logL += -r2/2/sigma/sigma\n",
    "\n",
    "    return logL, [r2]"
   ]
  },
  {
   "cell_type": "markdown",
   "id": "186e760a",
   "metadata": {},
   "source": [
    "Define a box uniform prior from -1 to 1"
   ]
  },
  {
   "cell_type": "code",
   "execution_count": null,
   "id": "c6154b8d",
   "metadata": {},
   "outputs": [],
   "source": [
    "def prior(hypercube):\n",
    "    \"\"\" Uniform prior from [-1,1]^D. \"\"\"\n",
    "    return UniformPrior(-1, 1)(hypercube)"
   ]
  },
  {
   "cell_type": "markdown",
   "id": "54a00017",
   "metadata": {},
   "source": [
    "Optional dumper function giving run-time read access to\n",
    " the live points, dead points, weights and evidences"
   ]
  },
  {
   "cell_type": "code",
   "execution_count": null,
   "id": "9a7c7238",
   "metadata": {},
   "outputs": [],
   "source": [
    "def dumper(live, dead, logweights, logZ, logZerr):\n",
    "    print(\"Last dead point:\", dead[-1])"
   ]
  },
  {
   "cell_type": "markdown",
   "id": "a93f0471",
   "metadata": {},
   "source": [
    "Optional cluster function allow user-defined clustering"
   ]
  },
  {
   "cell_type": "code",
   "execution_count": null,
   "id": "b1b4eaaf",
   "metadata": {},
   "outputs": [],
   "source": [
    "def cluster(points):\n",
    "    npoints = points.shape[0]\n",
    "    clusters = np.full(npoints, -1, dtype=int)\n",
    "\n",
    "    # <do some clustering algorithm to assign clusters>\n",
    "    # - clusters should be an array of cluster labels for each point\n",
    "    # - each cluster should have at least one point\n",
    "    # - thus max(clusters)+1 should be the number of clusters\n",
    "    # - i.e. clusters are 0-indexed\n",
    "    # - work with the above numpy integer array\n",
    "\n",
    "    return clusters"
   ]
  },
  {
   "cell_type": "markdown",
   "id": "7ccf5541",
   "metadata": {},
   "source": [
    "Initialise the settings"
   ]
  },
  {
   "cell_type": "code",
   "execution_count": null,
   "id": "caf7fb7c",
   "metadata": {},
   "outputs": [],
   "source": [
    "settings = PolyChordSettings(nDims, nDerived)\n",
    "settings.file_root = 'gaussian'\n",
    "settings.nlive = 200\n",
    "settings.do_clustering = True\n",
    "settings.read_resume = False"
   ]
  },
  {
   "cell_type": "markdown",
   "id": "8ca5896d",
   "metadata": {},
   "source": [
    "Run PolyChord"
   ]
  },
  {
   "cell_type": "code",
   "execution_count": null,
   "id": "fcab6df8",
   "metadata": {},
   "outputs": [],
   "source": [
    "output = pypolychord.run_polychord(likelihood, nDims, nDerived, settings, prior, dumper, cluster)"
   ]
  },
  {
   "cell_type": "markdown",
   "id": "3b6b8b82",
   "metadata": {},
   "source": [
    "Create a paramnames file"
   ]
  },
  {
   "cell_type": "code",
   "execution_count": null,
   "id": "0b20d84f",
   "metadata": {},
   "outputs": [],
   "source": [
    "paramnames = [('p%i' % i, r'\\theta_%i' % i) for i in range(nDims)]\n",
    "paramnames += [('r*', 'r')]\n",
    "output.make_paramnames_files(paramnames)"
   ]
  },
  {
   "cell_type": "markdown",
   "id": "45f0307a",
   "metadata": {},
   "source": [
    "Make an anesthetic plot (could also use getdist)"
   ]
  },
  {
   "cell_type": "code",
   "execution_count": null,
   "id": "1ec02909",
   "metadata": {},
   "outputs": [],
   "source": [
    "try:\n",
    "    from anesthetic import NestedSamples\n",
    "    samples = NestedSamples(root= settings.base_dir + '/' + settings.file_root)\n",
    "    fig, axes = samples.plot_2d(['p0','p1','p2','p3','r'])\n",
    "    fig.savefig('posterior.pdf')\n",
    "\n",
    "except ImportError:\n",
    "    try:\n",
    "        import getdist.plots\n",
    "        posterior = output.posterior\n",
    "        g = getdist.plots.getSubplotPlotter()\n",
    "        g.triangle_plot(posterior, filled=True)\n",
    "        g.export('posterior.pdf')\n",
    "    except ImportError:\n",
    "        print(\"Install matplotlib and getdist for plotting examples\")\n",
    "\n",
    "    print(\"Install anesthetic or getdist  for for plotting examples\")"
   ]
  }
 ],
 "metadata": {},
 "nbformat": 4,
 "nbformat_minor": 5
}
